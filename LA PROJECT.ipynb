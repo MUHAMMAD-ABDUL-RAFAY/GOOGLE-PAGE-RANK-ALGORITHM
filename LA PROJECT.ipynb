{
 "cells": [
  {
   "cell_type": "code",
   "execution_count": 83,
   "metadata": {},
   "outputs": [
    {
     "name": "stdout",
     "output_type": "stream",
     "text": [
      "EIGEN VALUE 1\n",
      "ROW REDUCED ECHELON FORM OF MATRIX CORRESPONDING TO EIGEN VALUE :  1\n",
      "(Matrix([\n",
      "[1, 0, 0, 0, 0, -4.0],\n",
      "[0, 1, 0, 0, 0, -1.0],\n",
      "[0, 0, 1, 0, 0, -0.5],\n",
      "[0, 0, 0, 1, 0, -5.5],\n",
      "[0, 0, 0, 0, 1, -8.0],\n",
      "[0, 0, 0, 0, 0,    0]]), (0, 1, 2, 3, 4))\n",
      "NUMBER OF PIVOTS IN MATRIX :  5\n",
      "PIVOTS IN COLUMNS :  (0, 1, 2, 3, 4)\n",
      "SOLUTION OF AX=0 SYSTEM\n",
      "[Matrix([\n",
      "[4.0],\n",
      "[1.0],\n",
      "[0.5],\n",
      "[5.5],\n",
      "[8.0],\n",
      "[  1]])]\n",
      "EIGEN VECTORS :  [4.00000000000000, 1.00000000000000, 0.500000000000000, 5.50000000000000, 8.00000000000000, 1] FOR EIGEN VALUE :  1\n",
      "------------------------------------------------------------------------\n",
      "PAGE 5  IS MORE IMPORTANT\n",
      "------------------------------------------------------------------------\n"
     ]
    },
    {
     "name": "stderr",
     "output_type": "stream",
     "text": [
      "<ipython-input-83-5b5c559cd9b9>:39: ComplexWarning: Casting complex values to real discards the imaginary part\n",
      "  print(\"EIGEN VALUE\",int(w[i]))\n",
      "<ipython-input-83-5b5c559cd9b9>:44: ComplexWarning: Casting complex values to real discards the imaginary part\n",
      "  mat[i,j] = mat[i,j] - int(temp)\n",
      "<ipython-input-83-5b5c559cd9b9>:47: ComplexWarning: Casting complex values to real discards the imaginary part\n",
      "  print(\"ROW REDUCED ECHELON FORM OF MATRIX CORRESPONDING TO EIGEN VALUE : \",int(temp))\n",
      "<ipython-input-83-5b5c559cd9b9>:57: ComplexWarning: Casting complex values to real discards the imaginary part\n",
      "  print(\"EIGEN VECTORS : \",page_info,\"FOR EIGEN VALUE : \",int(temp))\n"
     ]
    }
   ],
   "source": [
    "import numpy as np\n",
    "import sympy as sy\n",
    "#this commented code is for providing user based matrix instead of predefined matrix \n",
    "#R = int(input(\"Enter the number of rows:\"))\n",
    "#C = int(input(\"Enter the number of columns:\"))\n",
    "#matrix = []\n",
    "#print(\"Enter the entries rowwise:\")\n",
    "#for i in range(R):\n",
    "#    a =[]\n",
    "#    for j in range(C):     \n",
    "#         a.append(float(input()))\n",
    "#    matrix.append(a)\n",
    "#for i in range(R):\n",
    " #   for j in range(C):\n",
    "#        print(matrix[i][j], end = \" \")\n",
    "#    print()\n",
    "#-------------------------------------------------------------------------------------------------------------------------------\n",
    "#given here is the final matrix after applying probability\n",
    "# = int(input(\"Enter the number of rows:\"))\n",
    "# = int(input(\"Enter the number of rows:\"))\n",
    "#in our system we have taken 6X6 matrix \n",
    "R = 6 # fixed rows 6\n",
    "C = 6 # fixed columns 6\n",
    "if R != C:\n",
    "    print(\"NOT A SQUARE MATRIX\") #eigen vectors and eigen values are only possible for sqaure matrix so here's the check\n",
    "else:\n",
    "    #final matrix after applying probabilty\n",
    "    mat = sy.Matrix([[0,0,0,0,0.5,0],\n",
    "                    [0.25,0,0,0,0,0],\n",
    "                    [0,0.5,0,0,0,0],\n",
    "                    [0.25,0.5,0,0,0.5,0],\n",
    "                    [0.25,0,1,1,0,1],\n",
    "                    [0.25,0,0,0,0,0]])\n",
    "    ans = np.array(mat.tolist()).astype(np.float64)\n",
    "    w,v = np.linalg.eig(ans) # w contains eigen vector(not taking)  but v contains eigen value\n",
    "    list_free = []\n",
    "    for i in range(R):\n",
    "        if w[i] > 0:  #taking only real and postive eigen values because range can never be negtive or imaginary\n",
    "            print(\"EIGEN VALUE\",int(w[i]))\n",
    "            temp = w[i]\n",
    "            for i in range(R):\n",
    "                for j in range(C):\n",
    "                    if i == j:\n",
    "                        mat[i,j] = mat[i,j] - int(temp)\n",
    "    page_info = []\n",
    "    tup = mat.rref()\n",
    "    print(\"ROW REDUCED ECHELON FORM OF MATRIX CORRESPONDING TO EIGEN VALUE : \",int(temp))\n",
    "    print(tup)\n",
    "    print(\"NUMBER OF PIVOTS IN MATRIX : \",len(tup[1]))\n",
    "    print(\"PIVOTS IN COLUMNS : \",tup[1])\n",
    "    pages_mat = tup[0]\n",
    "    var = tup[0].nullspace() #for solving Ax = 0 system to get the eigen vector\n",
    "    print(\"SOLUTION OF AX=0 SYSTEM\")\n",
    "    print(var)\n",
    "    for i in range (R):\n",
    "        page_info.append(var[0][i])\n",
    "    print(\"EIGEN VECTORS : \",page_info,\"FOR EIGEN VALUE : \",int(temp))\n",
    "    max_value = max(page_info)\n",
    "    max_index = page_info.index(max_value)\n",
    "    print(\"------------------------------------------------------------------------\")\n",
    "    print(\"PAGE\",max_index+1,\" IS MORE IMPORTANT\") #here index is added with 1 because index start from 0\n",
    "    print(\"------------------------------------------------------------------------\")"
   ]
  },
  {
   "cell_type": "code",
   "execution_count": null,
   "metadata": {},
   "outputs": [],
   "source": []
  },
  {
   "cell_type": "code",
   "execution_count": null,
   "metadata": {},
   "outputs": [],
   "source": []
  }
 ],
 "metadata": {
  "kernelspec": {
   "display_name": "Python 3",
   "language": "python",
   "name": "python3"
  },
  "language_info": {
   "codemirror_mode": {
    "name": "ipython",
    "version": 3
   },
   "file_extension": ".py",
   "mimetype": "text/x-python",
   "name": "python",
   "nbconvert_exporter": "python",
   "pygments_lexer": "ipython3",
   "version": "3.8.3"
  }
 },
 "nbformat": 4,
 "nbformat_minor": 4
}
